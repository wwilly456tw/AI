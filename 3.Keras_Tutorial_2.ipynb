{
  "nbformat": 4,
  "nbformat_minor": 0,
  "metadata": {
    "colab": {
      "name": "Untitled4.ipynb",
      "provenance": []
    },
    "kernelspec": {
      "name": "python3",
      "display_name": "Python 3"
    }
  },
  "cells": [
    {
      "cell_type": "code",
      "metadata": {
        "id": "7spPwvVcf5eR",
        "colab_type": "code",
        "colab": {
          "base_uri": "https://localhost:8080/",
          "height": 748
        },
        "outputId": "c6435b9c-7112-44e8-b727-45dafc7efae5"
      },
      "source": [
        "import keras\n",
        "from keras.models import Sequential\n",
        "from keras.layers import Dense, Dropout, Activation\n",
        "from keras.optimizers import SGD\n",
        "\n",
        "# Generate dummy data\n",
        "import numpy as np\n",
        "x_train = np.random.random((1000, 10))\n",
        "y_train = keras.utils.to_categorical(np.random.randint(10, size=(1000, 1)), num_classes=10)\n",
        "x_test = np.random.random((100, 10))\n",
        "y_test = keras.utils.to_categorical(np.random.randint(10, size=(100, 1)), num_classes=10)\n",
        "\n",
        "model = Sequential()\n",
        "model.add(Dense(64, activation='relu', input_dim=10))\n",
        "model.add(Dense(64, activation='relu'))\n",
        "model.add(Dense(10, activation='softmax'))\n",
        "sgd = SGD(lr=0.01, decay=1e-6, momentum=0.9, nesterov=True)\n",
        "model.compile(loss='categorical_crossentropy', optimizer=sgd, metrics=['accuracy'])\n",
        "\n",
        "model.fit(x_train, y_train, epochs=20, batch_size=128)\n",
        "score = model.evaluate(x_test, y_test, batch_size=128)\n",
        "print(score)"
      ],
      "execution_count": 1,
      "outputs": [
        {
          "output_type": "stream",
          "text": [
            "Using TensorFlow backend.\n"
          ],
          "name": "stderr"
        },
        {
          "output_type": "stream",
          "text": [
            "Epoch 1/20\n",
            "1000/1000 [==============================] - 0s 228us/step - loss: 2.3240 - accuracy: 0.1070\n",
            "Epoch 2/20\n",
            "1000/1000 [==============================] - 0s 14us/step - loss: 2.3100 - accuracy: 0.1090\n",
            "Epoch 3/20\n",
            "1000/1000 [==============================] - 0s 14us/step - loss: 2.3020 - accuracy: 0.1150\n",
            "Epoch 4/20\n",
            "1000/1000 [==============================] - 0s 14us/step - loss: 2.2993 - accuracy: 0.1080\n",
            "Epoch 5/20\n",
            "1000/1000 [==============================] - 0s 14us/step - loss: 2.2974 - accuracy: 0.1150\n",
            "Epoch 6/20\n",
            "1000/1000 [==============================] - 0s 13us/step - loss: 2.2955 - accuracy: 0.1210\n",
            "Epoch 7/20\n",
            "1000/1000 [==============================] - 0s 13us/step - loss: 2.2945 - accuracy: 0.1200\n",
            "Epoch 8/20\n",
            "1000/1000 [==============================] - 0s 13us/step - loss: 2.2929 - accuracy: 0.1220\n",
            "Epoch 9/20\n",
            "1000/1000 [==============================] - 0s 13us/step - loss: 2.2922 - accuracy: 0.1230\n",
            "Epoch 10/20\n",
            "1000/1000 [==============================] - 0s 17us/step - loss: 2.2911 - accuracy: 0.1230\n",
            "Epoch 11/20\n",
            "1000/1000 [==============================] - 0s 13us/step - loss: 2.2901 - accuracy: 0.1280\n",
            "Epoch 12/20\n",
            "1000/1000 [==============================] - 0s 14us/step - loss: 2.2892 - accuracy: 0.1270\n",
            "Epoch 13/20\n",
            "1000/1000 [==============================] - 0s 14us/step - loss: 2.2882 - accuracy: 0.1290\n",
            "Epoch 14/20\n",
            "1000/1000 [==============================] - 0s 16us/step - loss: 2.2872 - accuracy: 0.1290\n",
            "Epoch 15/20\n",
            "1000/1000 [==============================] - 0s 17us/step - loss: 2.2864 - accuracy: 0.1330\n",
            "Epoch 16/20\n",
            "1000/1000 [==============================] - 0s 14us/step - loss: 2.2854 - accuracy: 0.1310\n",
            "Epoch 17/20\n",
            "1000/1000 [==============================] - 0s 17us/step - loss: 2.2845 - accuracy: 0.1350\n",
            "Epoch 18/20\n",
            "1000/1000 [==============================] - 0s 15us/step - loss: 2.2838 - accuracy: 0.1380\n",
            "Epoch 19/20\n",
            "1000/1000 [==============================] - 0s 15us/step - loss: 2.2832 - accuracy: 0.1450\n",
            "Epoch 20/20\n",
            "1000/1000 [==============================] - 0s 16us/step - loss: 2.2823 - accuracy: 0.1430\n",
            "100/100 [==============================] - 0s 196us/step\n",
            "[2.3079261779785156, 0.12999999523162842]\n"
          ],
          "name": "stdout"
        }
      ]
    }
  ]
}