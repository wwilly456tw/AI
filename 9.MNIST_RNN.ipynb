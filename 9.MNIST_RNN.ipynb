{
  "nbformat": 4,
  "nbformat_minor": 0,
  "metadata": {
    "colab": {
      "name": "Untitled9.ipynb",
      "provenance": []
    },
    "kernelspec": {
      "name": "python3",
      "display_name": "Python 3"
    }
  },
  "cells": [
    {
      "cell_type": "code",
      "metadata": {
        "id": "_TzpYJyi29eE",
        "colab_type": "code",
        "colab": {
          "base_uri": "https://localhost:8080/",
          "height": 935
        },
        "outputId": "b8146169-6b5f-4146-d3d9-33608ed03b40"
      },
      "source": [
        "from keras.datasets import mnist\n",
        "from keras.layers import Dense, LSTM\n",
        "from keras.utils import to_categorical\n",
        "from keras.models import Sequential\n",
        "\n",
        "#parameters for LSTM\n",
        "nb_lstm_outputs = 30  \n",
        "nb_time_steps = 28  \n",
        "nb_input_vector = 28 \n",
        "\n",
        "#data preprocessing: tofloat32, normalization, one_hot encoding\n",
        "(x_train, y_train), (x_test, y_test) = mnist.load_data()\n",
        "x_train = x_train.astype('float32')\n",
        "x_test = x_test.astype('float32')\n",
        "x_train /= 255\n",
        "x_test /= 255\n",
        " \n",
        "y_train = to_categorical(y_train, num_classes=10)\n",
        "y_test = to_categorical(y_test, num_classes=10)\n",
        "\n",
        "#build model\n",
        "model = Sequential()\n",
        "model.add(LSTM(units=nb_lstm_outputs, input_shape=(nb_time_steps, nb_input_vector)))\n",
        "model.add(Dense(10, activation='softmax'))\n",
        "\n",
        "#compile:loss, optimizer, metrics\n",
        "model.compile(loss='categorical_crossentropy', optimizer='adam', metrics=['accuracy'])\n",
        "#train: epcoch, batch_size\n",
        "model.fit(x_train, y_train, epochs=20, batch_size=128, verbose=1)\n",
        "\n",
        "model.summary()\n",
        "\n",
        "score = model.evaluate(x_test, y_test,batch_size=128, verbose=1)\n",
        "print(score)"
      ],
      "execution_count": 2,
      "outputs": [
        {
          "output_type": "stream",
          "text": [
            "Epoch 1/20\n",
            "60000/60000 [==============================] - 10s 164us/step - loss: 1.0602 - accuracy: 0.6616\n",
            "Epoch 2/20\n",
            "60000/60000 [==============================] - 10s 159us/step - loss: 0.3949 - accuracy: 0.8825\n",
            "Epoch 3/20\n",
            "60000/60000 [==============================] - 10s 159us/step - loss: 0.2659 - accuracy: 0.9224\n",
            "Epoch 4/20\n",
            "60000/60000 [==============================] - 9s 157us/step - loss: 0.2025 - accuracy: 0.9415\n",
            "Epoch 5/20\n",
            "60000/60000 [==============================] - 9s 158us/step - loss: 0.1678 - accuracy: 0.9512\n",
            "Epoch 6/20\n",
            "60000/60000 [==============================] - 9s 156us/step - loss: 0.1445 - accuracy: 0.9581\n",
            "Epoch 7/20\n",
            "60000/60000 [==============================] - 9s 158us/step - loss: 0.1293 - accuracy: 0.9618\n",
            "Epoch 8/20\n",
            "60000/60000 [==============================] - 9s 158us/step - loss: 0.1165 - accuracy: 0.9662\n",
            "Epoch 9/20\n",
            "60000/60000 [==============================] - 9s 157us/step - loss: 0.1049 - accuracy: 0.9696\n",
            "Epoch 10/20\n",
            "60000/60000 [==============================] - 9s 157us/step - loss: 0.0975 - accuracy: 0.9717\n",
            "Epoch 11/20\n",
            "60000/60000 [==============================] - 9s 156us/step - loss: 0.0926 - accuracy: 0.9723\n",
            "Epoch 12/20\n",
            "60000/60000 [==============================] - 9s 157us/step - loss: 0.0862 - accuracy: 0.9740\n",
            "Epoch 13/20\n",
            "60000/60000 [==============================] - 9s 158us/step - loss: 0.0824 - accuracy: 0.9757\n",
            "Epoch 14/20\n",
            "60000/60000 [==============================] - 10s 158us/step - loss: 0.0765 - accuracy: 0.9771\n",
            "Epoch 15/20\n",
            "60000/60000 [==============================] - 10s 159us/step - loss: 0.0727 - accuracy: 0.9792\n",
            "Epoch 16/20\n",
            "60000/60000 [==============================] - 10s 158us/step - loss: 0.0692 - accuracy: 0.9797\n",
            "Epoch 17/20\n",
            "60000/60000 [==============================] - 10s 160us/step - loss: 0.0655 - accuracy: 0.9803\n",
            "Epoch 18/20\n",
            "60000/60000 [==============================] - 9s 158us/step - loss: 0.0659 - accuracy: 0.9802\n",
            "Epoch 19/20\n",
            "60000/60000 [==============================] - 10s 160us/step - loss: 0.0605 - accuracy: 0.9813\n",
            "Epoch 20/20\n",
            "60000/60000 [==============================] - 10s 160us/step - loss: 0.0584 - accuracy: 0.9826\n",
            "Model: \"sequential_2\"\n",
            "_________________________________________________________________\n",
            "Layer (type)                 Output Shape              Param #   \n",
            "=================================================================\n",
            "lstm_1 (LSTM)                (None, 30)                7080      \n",
            "_________________________________________________________________\n",
            "dense_3 (Dense)              (None, 10)                310       \n",
            "=================================================================\n",
            "Total params: 7,390\n",
            "Trainable params: 7,390\n",
            "Non-trainable params: 0\n",
            "_________________________________________________________________\n",
            "10000/10000 [==============================] - 0s 47us/step\n",
            "[0.07564671759307384, 0.9761000275611877]\n"
          ],
          "name": "stdout"
        }
      ]
    }
  ]
}