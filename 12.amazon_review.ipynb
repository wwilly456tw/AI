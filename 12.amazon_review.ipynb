{
  "nbformat": 4,
  "nbformat_minor": 0,
  "metadata": {
    "kernelspec": {
      "display_name": "Python [conda env:.conda-pytorch13] *",
      "language": "python",
      "name": "conda-env-.conda-pytorch13-py"
    },
    "language_info": {
      "codemirror_mode": {
        "name": "ipython",
        "version": 3
      },
      "file_extension": ".py",
      "mimetype": "text/x-python",
      "name": "python",
      "nbconvert_exporter": "python",
      "pygments_lexer": "ipython3",
      "version": "3.7.5"
    },
    "colab": {
      "name": "amazon_review.ipynb",
      "provenance": [],
      "collapsed_sections": [],
      "toc_visible": true
    },
    "accelerator": "GPU"
  },
  "cells": [
    {
      "cell_type": "markdown",
      "metadata": {
        "id": "aDsPl5ysDBZV",
        "colab_type": "text"
      },
      "source": [
        "### 載入預設的庫(20200507MUST)\n",
        "* 處理bz2\n",
        "* 處理kv值\n",
        "* 載入正規表示法\n",
        "* 載入英文分詞庫\n",
        "* numpy"
      ]
    },
    {
      "cell_type": "code",
      "metadata": {
        "id": "NDR7zAOoDLCk",
        "colab_type": "code",
        "outputId": "ae053180-aa08-41f5-8503-2b72dc81616c",
        "colab": {
          "base_uri": "https://localhost:8080/",
          "height": 121
        }
      },
      "source": [
        "from google.colab import drive\n",
        "drive.mount('/content/drive')"
      ],
      "execution_count": 0,
      "outputs": [
        {
          "output_type": "stream",
          "text": [
            "Go to this URL in a browser: https://accounts.google.com/o/oauth2/auth?client_id=947318989803-6bn6qk8qdgf4n4g3pfee6491hc0brc4i.apps.googleusercontent.com&redirect_uri=urn%3aietf%3awg%3aoauth%3a2.0%3aoob&response_type=code&scope=email%20https%3a%2f%2fwww.googleapis.com%2fauth%2fdocs.test%20https%3a%2f%2fwww.googleapis.com%2fauth%2fdrive%20https%3a%2f%2fwww.googleapis.com%2fauth%2fdrive.photos.readonly%20https%3a%2f%2fwww.googleapis.com%2fauth%2fpeopleapi.readonly\n",
            "\n",
            "Enter your authorization code:\n",
            "··········\n",
            "Mounted at /content/drive\n"
          ],
          "name": "stdout"
        }
      ]
    },
    {
      "cell_type": "code",
      "metadata": {
        "id": "XwKoD59ADBZX",
        "colab_type": "code",
        "outputId": "c81009ea-0d11-441f-cdab-135fbc5b5099",
        "colab": {
          "base_uri": "https://localhost:8080/",
          "height": 51
        }
      },
      "source": [
        "import bz2\n",
        "from collections import Counter\n",
        "import re\n",
        "import nltk\n",
        "import numpy as np\n",
        "nltk.download('punkt')\n",
        "\n",
        "train_file = bz2.BZ2File('/content/drive/My Drive/train.ft.txt.bz2')\n",
        "test_file = bz2.BZ2File('/content/drive/My Drive/test.ft.txt.bz2')\n",
        "\n",
        "train_file = train_file.readlines()\n",
        "test_file = test_file.readlines()"
      ],
      "execution_count": 0,
      "outputs": [
        {
          "output_type": "stream",
          "text": [
            "[nltk_data] Downloading package punkt to /root/nltk_data...\n",
            "[nltk_data]   Unzipping tokenizers/punkt.zip.\n"
          ],
          "name": "stdout"
        }
      ]
    },
    {
      "cell_type": "markdown",
      "metadata": {
        "id": "ohVACmVODBZd",
        "colab_type": "text"
      },
      "source": [
        "### 看一下檔案中有什麼，並且看一共有多大"
      ]
    },
    {
      "cell_type": "code",
      "metadata": {
        "id": "76X7nGp6DBZe",
        "colab_type": "code",
        "outputId": "d40f627e-b9da-4865-dc3d-743572436f55",
        "colab": {
          "base_uri": "https://localhost:8080/",
          "height": 71
        }
      },
      "source": [
        "print(train_file[67])\n",
        "print(len(train_file))\n"
      ],
      "execution_count": 0,
      "outputs": [
        {
          "output_type": "stream",
          "text": [
            "b'__label__2 Even Mommy has fun with this one!: My four year old daughter loves everything Barbie and loves the Rapunzel movie. This game is tons of fun, even for a 42 year old. We love playing it together. We love decorating all the rooms and finding the gems. What even better is, she can play it alone and I get some me time!\\n'\n",
            "3600000\n"
          ],
          "name": "stdout"
        }
      ]
    },
    {
      "cell_type": "markdown",
      "metadata": {
        "id": "11-mmt0ODBZi",
        "colab_type": "text"
      },
      "source": [
        "### 原檔案太大，只取其中80萬，原來有360萬\n",
        "### 同時將檔案轉成utf8格式"
      ]
    },
    {
      "cell_type": "code",
      "metadata": {
        "id": "lqCVwNWkDBZj",
        "colab_type": "code",
        "colab": {}
      },
      "source": [
        "num_train = 800000  # We're training on the first 800,000 reviews in the dataset\n",
        "num_test = 200000  # Using 200,000 reviews from test set\n",
        "# num_train = len(train_file)\n",
        "# num_test = len(test_file)\n",
        "train_file = [x.decode('utf-8') for x in train_file[:num_train]]\n",
        "test_file = [x.decode('utf-8') for x in test_file[:num_test]]\n"
      ],
      "execution_count": 0,
      "outputs": []
    },
    {
      "cell_type": "markdown",
      "metadata": {
        "id": "bZ-lSB3JDBZn",
        "colab_type": "text"
      },
      "source": [
        "### 看一下檔案中有什麼，並且看一共有多大"
      ]
    },
    {
      "cell_type": "code",
      "metadata": {
        "id": "hiU_Xah0DBZn",
        "colab_type": "code",
        "outputId": "3b161d1c-9c3a-4d62-b32b-15b9efa1dbdf",
        "colab": {
          "base_uri": "https://localhost:8080/",
          "height": 87
        }
      },
      "source": [
        "print(train_file[67])\n",
        "print(len(train_file))\n"
      ],
      "execution_count": 0,
      "outputs": [
        {
          "output_type": "stream",
          "text": [
            "__label__2 Even Mommy has fun with this one!: My four year old daughter loves everything Barbie and loves the Rapunzel movie. This game is tons of fun, even for a 42 year old. We love playing it together. We love decorating all the rooms and finding the gems. What even better is, she can play it alone and I get some me time!\n",
            "\n",
            "800000\n"
          ],
          "name": "stdout"
        }
      ]
    },
    {
      "cell_type": "markdown",
      "metadata": {
        "id": "LEijn9ujDBZr",
        "colab_type": "text"
      },
      "source": [
        "### 將標記抓出，正評為1、負評為0，同時對訓練集和測試集進行"
      ]
    },
    {
      "cell_type": "code",
      "metadata": {
        "id": "iZecW9lLDBZs",
        "colab_type": "code",
        "colab": {}
      },
      "source": [
        "train_labels = [0 if x.split(' ')[0] == '__label__1' else 1 for x in train_file]\n",
        "train_sentences = [x.split(' ', 1)[1][:-1].lower() for x in train_file]\n",
        "\n",
        "test_labels = [0 if x.split(' ')[0] == '__label__1' else 1 for x in test_file]\n",
        "test_sentences = [x.split(' ', 1)[1][:-1].lower() for x in test_file]\n"
      ],
      "execution_count": 0,
      "outputs": []
    },
    {
      "cell_type": "markdown",
      "metadata": {
        "id": "bQyVEcr1DBZv",
        "colab_type": "text"
      },
      "source": [
        "### 看一下標記和資料的長相"
      ]
    },
    {
      "cell_type": "code",
      "metadata": {
        "id": "EF2zpqXFDBZw",
        "colab_type": "code",
        "outputId": "f94879da-2b68-4d30-8fab-df36212e21c2",
        "colab": {
          "base_uri": "https://localhost:8080/",
          "height": 87
        }
      },
      "source": [
        "print(len(train_labels))\n",
        "print(train_labels[67])\n",
        "print(train_sentences[67])\n"
      ],
      "execution_count": 0,
      "outputs": [
        {
          "output_type": "stream",
          "text": [
            "800000\n",
            "1\n",
            "even mommy has fun with this one!: my four year old daughter loves everything barbie and loves the rapunzel movie. this game is tons of fun, even for a 42 year old. we love playing it together. we love decorating all the rooms and finding the gems. what even better is, she can play it alone and i get some me time!\n"
          ],
          "name": "stdout"
        }
      ]
    },
    {
      "cell_type": "markdown",
      "metadata": {
        "id": "ggqUQrsjDBZ0",
        "colab_type": "text"
      },
      "source": [
        "### 把數字全部變成0"
      ]
    },
    {
      "cell_type": "code",
      "metadata": {
        "id": "g3N9FFPRDBZ1",
        "colab_type": "code",
        "colab": {}
      },
      "source": [
        "# Some simple cleaning of data\n",
        "for i in range(len(train_sentences)):\n",
        "    train_sentences[i] = re.sub('\\d','0',train_sentences[i])\n",
        "\n",
        "for i in range(len(test_sentences)):\n",
        "    test_sentences[i] = re.sub('\\d','0',test_sentences[i])\n",
        "    "
      ],
      "execution_count": 0,
      "outputs": []
    },
    {
      "cell_type": "markdown",
      "metadata": {
        "id": "3P-n7xXYDBZ4",
        "colab_type": "text"
      },
      "source": [
        "### 找一筆資料出來看"
      ]
    },
    {
      "cell_type": "code",
      "metadata": {
        "id": "RQjbrT7XDBZ5",
        "colab_type": "code",
        "outputId": "c0affd90-4ec0-4be4-bb75-f2940a2db611",
        "colab": {
          "base_uri": "https://localhost:8080/",
          "height": 54
        }
      },
      "source": [
        "print(train_sentences[67])"
      ],
      "execution_count": 0,
      "outputs": [
        {
          "output_type": "stream",
          "text": [
            "even mommy has fun with this one!: my four year old daughter loves everything barbie and loves the rapunzel movie. this game is tons of fun, even for a 00 year old. we love playing it together. we love decorating all the rooms and finding the gems. what even better is, she can play it alone and i get some me time!\n"
          ],
          "name": "stdout"
        }
      ]
    },
    {
      "cell_type": "markdown",
      "metadata": {
        "id": "t7_UsXpiDBZ8",
        "colab_type": "text"
      },
      "source": [
        "### 把網址全部換成'\\<url>'"
      ]
    },
    {
      "cell_type": "code",
      "metadata": {
        "id": "th_2yny4DBZ9",
        "colab_type": "code",
        "colab": {}
      },
      "source": [
        "# Modify URLs to <url>\n",
        "for i in range(len(train_sentences)):\n",
        "    if 'www.' in train_sentences[i] or 'http:' in train_sentences[i] or 'https:' in train_sentences[i] or '.com' in train_sentences[i]:\n",
        "        train_sentences[i] = re.sub(r\"([^ ]+(?<=\\.[a-z]{3}))\", \"<url>\", train_sentences[i])\n",
        "        \n",
        "for i in range(len(test_sentences)):\n",
        "    if 'www.' in test_sentences[i] or 'http:' in test_sentences[i] or 'https:' in test_sentences[i] or '.com' in test_sentences[i]:\n",
        "        test_sentences[i] = re.sub(r\"([^ ]+(?<=\\.[a-z]{3}))\", \"<url>\", test_sentences[i])"
      ],
      "execution_count": 0,
      "outputs": []
    },
    {
      "cell_type": "markdown",
      "metadata": {
        "id": "JesaOQuUDBaA",
        "colab_type": "text"
      },
      "source": [
        "### 找一筆出來看"
      ]
    },
    {
      "cell_type": "code",
      "metadata": {
        "id": "5iB4hAjTDBaB",
        "colab_type": "code",
        "outputId": "f94b1dfc-7f43-44d2-fb91-f1b95e22f4a6",
        "colab": {
          "base_uri": "https://localhost:8080/",
          "height": 104
        }
      },
      "source": [
        "with_url = 0\n",
        "for ii, s in enumerate(train_sentences):\n",
        "    if '<url>' in s:\n",
        "        with_url = ii\n",
        "        print(ii)\n",
        "        break\n",
        "print(train_file[5])\n",
        "print(train_sentences[with_url])"
      ],
      "execution_count": 0,
      "outputs": [
        {
          "output_type": "stream",
          "text": [
            "5\n",
            "__label__2 an absolute masterpiece: I am quite sure any of you actually taking the time to read this have played the game at least once, and heard at least a few of the tracks here. And whether you were aware of it or not, Mitsuda's music contributed greatly to the mood of every single minute of the whole game.Composed of 3 CDs and quite a few songs (I haven't an exact count), all of which are heart-rendering and impressively remarkable, this soundtrack is one I assure you you will not forget. It has everything for every listener -- from fast-paced and energetic (Dancing the Tokage or Termina Home), to slower and more haunting (Dragon God), to purely beautifully composed (Time's Scar), to even some fantastic vocals (Radical Dreamers).This is one of the best videogame soundtracks out there, and surely Mitsuda's best ever. ^_^\n",
            "\n",
            "an absolute masterpiece: i am quite sure any of you actually taking the time to read this have played the game at least once, and heard at least a few of the tracks here. and whether you were aware of it or not, mitsuda's music contributed greatly to the mood of every single minute of the whole <url>posed of 0 cds and quite a few songs (i haven't an exact count), all of which are heart-rendering and impressively remarkable, this soundtrack is one i assure you you will not forget. it has everything for every listener -- from fast-paced and energetic (dancing the tokage or termina home), to slower and more haunting (dragon god), to purely beautifully composed (time's scar), to even some fantastic vocals (radical <url>s is one of the best videogame soundtracks out there, and surely mitsuda's best ever. ^_^\n"
          ],
          "name": "stdout"
        }
      ]
    },
    {
      "cell_type": "markdown",
      "metadata": {
        "id": "2tdR51EEDBaF",
        "colab_type": "text"
      },
      "source": [
        "### 將句子分詞為單字\n",
        "* 啟用Counter\n",
        "* 先將某條句定清空，再將分詞完之後的單詞存入該句子，使用ntlk"
      ]
    },
    {
      "cell_type": "code",
      "metadata": {
        "id": "e61rHlugDBaG",
        "colab_type": "code",
        "outputId": "36feccbc-7580-451b-cfff-0a551b3aa5f4",
        "colab": {
          "base_uri": "https://localhost:8080/",
          "height": 710
        }
      },
      "source": [
        "words = Counter()  # Dictionary that will map a word to the number of times it appeared in all the training sentences\n",
        "for i, sentence in enumerate(train_sentences):\n",
        "    # The sentences will be stored as a list of words/tokens\n",
        "    train_sentences[i] = []\n",
        "    for word in nltk.word_tokenize(sentence):  # Tokenizing the words\n",
        "        words.update([word.lower()])  # Converting all the words to lowercase\n",
        "        train_sentences[i].append(word)\n",
        "    if i%20000 == 0:\n",
        "        print(str((i*100)/num_train) + \"% done\")\n",
        "print(\"100% done\")"
      ],
      "execution_count": 0,
      "outputs": [
        {
          "output_type": "stream",
          "text": [
            "0.0% done\n",
            "2.5% done\n",
            "5.0% done\n",
            "7.5% done\n",
            "10.0% done\n",
            "12.5% done\n",
            "15.0% done\n",
            "17.5% done\n",
            "20.0% done\n",
            "22.5% done\n",
            "25.0% done\n",
            "27.5% done\n",
            "30.0% done\n",
            "32.5% done\n",
            "35.0% done\n",
            "37.5% done\n",
            "40.0% done\n",
            "42.5% done\n",
            "45.0% done\n",
            "47.5% done\n",
            "50.0% done\n",
            "52.5% done\n",
            "55.0% done\n",
            "57.5% done\n",
            "60.0% done\n",
            "62.5% done\n",
            "65.0% done\n",
            "67.5% done\n",
            "70.0% done\n",
            "72.5% done\n",
            "75.0% done\n",
            "77.5% done\n",
            "80.0% done\n",
            "82.5% done\n",
            "85.0% done\n",
            "87.5% done\n",
            "90.0% done\n",
            "92.5% done\n",
            "95.0% done\n",
            "97.5% done\n",
            "100% done\n"
          ],
          "name": "stdout"
        }
      ]
    },
    {
      "cell_type": "markdown",
      "metadata": {
        "id": "ZTwR_zQoDBaJ",
        "colab_type": "text"
      },
      "source": [
        "### 查看分完詞後的句子長相"
      ]
    },
    {
      "cell_type": "code",
      "metadata": {
        "id": "fg49mzKCDBaJ",
        "colab_type": "code",
        "outputId": "6df2de61-4e15-488c-d3ab-f3a6f2ab17b0",
        "colab": {
          "base_uri": "https://localhost:8080/",
          "height": 54
        }
      },
      "source": [
        "print(train_sentences[67])\n"
      ],
      "execution_count": 0,
      "outputs": [
        {
          "output_type": "stream",
          "text": [
            "['even', 'mommy', 'has', 'fun', 'with', 'this', 'one', '!', ':', 'my', 'four', 'year', 'old', 'daughter', 'loves', 'everything', 'barbie', 'and', 'loves', 'the', 'rapunzel', 'movie', '.', 'this', 'game', 'is', 'tons', 'of', 'fun', ',', 'even', 'for', 'a', '00', 'year', 'old', '.', 'we', 'love', 'playing', 'it', 'together', '.', 'we', 'love', 'decorating', 'all', 'the', 'rooms', 'and', 'finding', 'the', 'gems', '.', 'what', 'even', 'better', 'is', ',', 'she', 'can', 'play', 'it', 'alone', 'and', 'i', 'get', 'some', 'me', 'time', '!']\n"
          ],
          "name": "stdout"
        }
      ]
    },
    {
      "cell_type": "markdown",
      "metadata": {
        "id": "rJ5LzLfzDBaN",
        "colab_type": "text"
      },
      "source": [
        "### 把只出現一次的字刪除，只留出現兩次以上的字\n",
        "### 把字照出現次數排序"
      ]
    },
    {
      "cell_type": "code",
      "metadata": {
        "id": "Q3Miv1UmDBaN",
        "colab_type": "code",
        "colab": {}
      },
      "source": [
        "words = {k:v for k,v in words.items() if v>1}\n",
        "# Sorting the words according to the number of appearances, with the most common word being first\n",
        "words = sorted(words, key=words.get, reverse=True)\n"
      ],
      "execution_count": 0,
      "outputs": []
    },
    {
      "cell_type": "markdown",
      "metadata": {
        "id": "SEHKnIlODBaR",
        "colab_type": "text"
      },
      "source": [
        "### 印出一個字來看長什麼樣子"
      ]
    },
    {
      "cell_type": "code",
      "metadata": {
        "id": "wtVHMqOWDBaR",
        "colab_type": "code",
        "outputId": "80b43c42-cc2c-487f-8322-5f0a570a8d1a",
        "colab": {
          "base_uri": "https://localhost:8080/",
          "height": 51
        }
      },
      "source": [
        "print(len(words))\n",
        "print(words[100])"
      ],
      "execution_count": 0,
      "outputs": [
        {
          "output_type": "stream",
          "text": [
            "225962\n",
            "she\n"
          ],
          "name": "stdout"
        }
      ]
    },
    {
      "cell_type": "markdown",
      "metadata": {
        "id": "E-KU04IJDBaU",
        "colab_type": "text"
      },
      "source": [
        "### 將未知字和補0算一個字加進去\n",
        "* 開始將字編號\n",
        "* 建立字對編號的關係，雙向所以有兩個"
      ]
    },
    {
      "cell_type": "code",
      "metadata": {
        "id": "--Ked48WDBaV",
        "colab_type": "code",
        "colab": {}
      },
      "source": [
        "words = ['_PAD','_UNK'] + words\n",
        "# Dictionaries to store the word to index mappings and vice versa\n",
        "word2idx = {o:i for i,o in enumerate(words)}\n",
        "idx2word = {i:o for i,o in enumerate(words)}"
      ],
      "execution_count": 0,
      "outputs": []
    },
    {
      "cell_type": "markdown",
      "metadata": {
        "id": "mzOhoCnjDBaY",
        "colab_type": "text"
      },
      "source": [
        "### 印出某個字來看其索引，並且印出索引看字是什麼"
      ]
    },
    {
      "cell_type": "code",
      "metadata": {
        "id": "Hp1y1rgkDBaZ",
        "colab_type": "code",
        "outputId": "265fd7fe-4def-4aad-fd82-16cdef7a0f9a",
        "colab": {
          "base_uri": "https://localhost:8080/",
          "height": 51
        }
      },
      "source": [
        "print(word2idx['the'])\n",
        "print(idx2word[100])\n",
        "\n"
      ],
      "execution_count": 0,
      "outputs": [
        {
          "output_type": "stream",
          "text": [
            "3\n",
            "album\n"
          ],
          "name": "stdout"
        }
      ]
    },
    {
      "cell_type": "markdown",
      "metadata": {
        "id": "6ybZZBJWDBac",
        "colab_type": "text"
      },
      "source": [
        "### 把訓練句子中的所有文字都轉成索引，還有測試句子"
      ]
    },
    {
      "cell_type": "code",
      "metadata": {
        "id": "H8Nv4OULDBad",
        "colab_type": "code",
        "colab": {}
      },
      "source": [
        "for i, sentence in enumerate(train_sentences):\n",
        "    # Looking up the mapping dictionary and assigning the index to the respective words\n",
        "    train_sentences[i] = [word2idx[word] if word in word2idx else 0 for word in sentence]\n",
        "\n",
        "for i, sentence in enumerate(test_sentences):\n",
        "    # For test sentences, we have to tokenize the sentences as well\n",
        "    test_sentences[i] = [word2idx[word.lower()] if word.lower() in word2idx else 0 for word in nltk.word_tokenize(sentence)]"
      ],
      "execution_count": 0,
      "outputs": []
    },
    {
      "cell_type": "markdown",
      "metadata": {
        "id": "6dTdUAH2DBaf",
        "colab_type": "text"
      },
      "source": [
        "### 印出一個句子出來看看"
      ]
    },
    {
      "cell_type": "code",
      "metadata": {
        "id": "YqTKkIHlDBag",
        "colab_type": "code",
        "outputId": "8ff47e61-baab-45d0-9b4c-52b77c19eb53",
        "colab": {
          "base_uri": "https://localhost:8080/",
          "height": 71
        }
      },
      "source": [
        "print(len(train_sentences[67]))\n",
        "print(train_sentences[67])"
      ],
      "execution_count": 0,
      "outputs": [
        {
          "output_type": "stream",
          "text": [
            "71\n",
            "[88, 6044, 58, 238, 23, 11, 31, 15, 13, 28, 610, 223, 152, 462, 483, 309, 4718, 6, 483, 3, 44246, 50, 2, 11, 211, 12, 2607, 10, 238, 4, 88, 16, 7, 81, 223, 152, 2, 86, 89, 487, 9, 356, 2, 86, 89, 8389, 35, 3, 4865, 6, 1288, 3, 4155, 2, 57, 88, 109, 12, 4, 102, 69, 262, 9, 788, 6, 5, 71, 79, 59, 70, 15]\n"
          ],
          "name": "stdout"
        }
      ]
    },
    {
      "cell_type": "markdown",
      "metadata": {
        "id": "h4DkVaMJDBal",
        "colab_type": "text"
      },
      "source": [
        "### 印一個超過200的句子來看"
      ]
    },
    {
      "cell_type": "code",
      "metadata": {
        "id": "Y3zJgerxDBan",
        "colab_type": "code",
        "outputId": "e99c60f4-ba5f-4e86-c22e-f1a90a8c9aaa",
        "colab": {
          "base_uri": "https://localhost:8080/",
          "height": 121
        }
      },
      "source": [
        "more_than_200 = 0\n",
        "for ii, s in enumerate(train_sentences):\n",
        "    if len(s) > 200:\n",
        "        more_than_200 = ii\n",
        "        print(len(s))\n",
        "        print(ii)\n",
        "        break\n",
        "print(train_file[more_than_200])\n",
        "print(train_sentences[more_than_200])"
      ],
      "execution_count": 0,
      "outputs": [
        {
          "output_type": "stream",
          "text": [
            "204\n",
            "71\n",
            "__label__1 barbie rapunzel = crying child: My 6-year old daughter is currently sobbing in her bedroom as a result of this rotten game.She spent an hour on this game painting in pretty pictures and coloring in flowers. But halfway through the game, the program hung, and wouldn't let us leave the room or click anywhere else. Now even if we exit the game and then start it back up, we are frozen in one spot while Barbie's disembodied voice urges us to \"explore somewhere else in the castle.\"Standard software troubleshooting and rebooting didn't help. Vivendi Games' support site is \"currently disabled.\" And now I'm left with a weeping, frustrating child who doesn't understand that it is not her fault that her game won't work. I'm hoping it was just incompetent software programming that couldn't catch the bug my 6-year old caught the first time around. Or maybe they just don't care about the problems, so long as you get our 20 bucks. If you don't want a crying little girl, avoid this game!\n",
            "\n",
            "[4718, 44246, 2181, 3093, 466, 13, 28, 6213, 152, 462, 12, 2038, 24705, 14, 85, 3480, 29, 7, 1278, 10, 11, 6106, 0, 726, 52, 810, 25, 11, 211, 3958, 14, 249, 582, 6, 7678, 14, 5047, 2, 22, 2704, 161, 3, 211, 4, 3, 937, 4344, 4, 6, 51, 26, 308, 248, 708, 3, 649, 53, 2822, 1382, 363, 2, 129, 88, 39, 86, 7734, 3, 211, 6, 114, 395, 9, 137, 74, 4, 86, 30, 4663, 14, 31, 1927, 176, 4718, 21, 43061, 392, 20866, 248, 8, 33, 3582, 1523, 363, 14, 3, 4032, 2, 33, 981, 757, 8824, 6, 17960, 76, 26, 325, 2, 28578, 792, 155, 605, 1214, 12, 33, 2038, 9273, 2, 32, 6, 129, 5, 122, 388, 23, 7, 20278, 4, 1697, 466, 80, 82, 26, 341, 17, 9, 12, 20, 85, 1863, 17, 85, 211, 350, 26, 117, 2, 5, 122, 784, 9, 18, 47, 9773, 757, 2602, 17, 93, 26, 1661, 3, 4006, 28, 6213, 152, 1455, 3, 84, 70, 251, 2, 53, 319, 41, 47, 37, 26, 508, 54, 3, 425, 4, 36, 183, 29, 19, 71, 189, 81, 1424, 2, 39, 19, 37, 26, 148, 7, 3093, 123, 516, 4, 835, 11, 211, 15]\n"
          ],
          "name": "stdout"
        }
      ]
    },
    {
      "cell_type": "markdown",
      "metadata": {
        "id": "AylMwgbVDBau",
        "colab_type": "text"
      },
      "source": [
        "### 把句子不到200的前面補上0，如果超過200，就把200以後的刪除，讓每個句子的長度都是200"
      ]
    },
    {
      "cell_type": "code",
      "metadata": {
        "id": "CUqamPnODBaw",
        "colab_type": "code",
        "colab": {}
      },
      "source": [
        "# Defining a function that either shortens sentences or pads sentences with 0 to a fixed length\n",
        "def pad_input(sentences, seq_len):\n",
        "    features = np.zeros((len(sentences), seq_len),dtype=int)\n",
        "    for ii, review in enumerate(sentences):\n",
        "        if len(review) != 0:\n",
        "            features[ii, -len(review):] = np.array(review)[:seq_len]\n",
        "    return features\n",
        "\n",
        "seq_len = 200  # The length that the sentences will be padded/shortened to\n",
        "\n",
        "train_sentences = pad_input(train_sentences, seq_len)\n",
        "test_sentences = pad_input(test_sentences, seq_len)\n",
        "\n",
        "# Converting our labels into numpy arrays\n",
        "train_labels = np.array(train_labels)\n",
        "test_labels = np.array(test_labels)"
      ],
      "execution_count": 0,
      "outputs": []
    },
    {
      "cell_type": "markdown",
      "metadata": {
        "id": "cWKhAAEFDBa3",
        "colab_type": "text"
      },
      "source": [
        "### 印一個補過0的出來看"
      ]
    },
    {
      "cell_type": "code",
      "metadata": {
        "id": "fh8OYYFpDBa5",
        "colab_type": "code",
        "outputId": "ffc38af1-af45-402a-d6ea-2fcdbf39c3a6",
        "colab": {
          "base_uri": "https://localhost:8080/",
          "height": 321
        }
      },
      "source": [
        "print(len(train_sentences[67]))\n",
        "print(train_sentences[67])"
      ],
      "execution_count": 0,
      "outputs": [
        {
          "output_type": "stream",
          "text": [
            "200\n",
            "[    0     0     0     0     0     0     0     0     0     0     0     0\n",
            "     0     0     0     0     0     0     0     0     0     0     0     0\n",
            "     0     0     0     0     0     0     0     0     0     0     0     0\n",
            "     0     0     0     0     0     0     0     0     0     0     0     0\n",
            "     0     0     0     0     0     0     0     0     0     0     0     0\n",
            "     0     0     0     0     0     0     0     0     0     0     0     0\n",
            "     0     0     0     0     0     0     0     0     0     0     0     0\n",
            "     0     0     0     0     0     0     0     0     0     0     0     0\n",
            "     0     0     0     0     0     0     0     0     0     0     0     0\n",
            "     0     0     0     0     0     0     0     0     0     0     0     0\n",
            "     0     0     0     0     0     0     0     0     0    88  6044    58\n",
            "   238    23    11    31    15    13    28   610   223   152   462   483\n",
            "   309  4718     6   483     3 44246    50     2    11   211    12  2607\n",
            "    10   238     4    88    16     7    81   223   152     2    86    89\n",
            "   487     9   356     2    86    89  8389    35     3  4865     6  1288\n",
            "     3  4155     2    57    88   109    12     4   102    69   262     9\n",
            "   788     6     5    71    79    59    70    15]\n"
          ],
          "name": "stdout"
        }
      ]
    },
    {
      "cell_type": "markdown",
      "metadata": {
        "id": "3C0iMApxDBbB",
        "colab_type": "text"
      },
      "source": [
        "### 印出一個被截斷的來看"
      ]
    },
    {
      "cell_type": "code",
      "metadata": {
        "id": "IgElmGCRDBbB",
        "colab_type": "code",
        "outputId": "f9fea219-681f-4b25-d21e-7cacbe37fbac",
        "colab": {
          "base_uri": "https://localhost:8080/",
          "height": 321
        }
      },
      "source": [
        "print(len(train_sentences[more_than_200]))\n",
        "print(train_sentences[more_than_200])"
      ],
      "execution_count": 0,
      "outputs": [
        {
          "output_type": "stream",
          "text": [
            "200\n",
            "[ 4718 44246  2181  3093   466    13    28  6213   152   462    12  2038\n",
            " 24705    14    85  3480    29     7  1278    10    11  6106     0   726\n",
            "    52   810    25    11   211  3958    14   249   582     6  7678    14\n",
            "  5047     2    22  2704   161     3   211     4     3   937  4344     4\n",
            "     6    51    26   308   248   708     3   649    53  2822  1382   363\n",
            "     2   129    88    39    86  7734     3   211     6   114   395     9\n",
            "   137    74     4    86    30  4663    14    31  1927   176  4718    21\n",
            " 43061   392 20866   248     8    33  3582  1523   363    14     3  4032\n",
            "     2    33   981   757  8824     6 17960    76    26   325     2 28578\n",
            "   792   155   605  1214    12    33  2038  9273     2    32     6   129\n",
            "     5   122   388    23     7 20278     4  1697   466    80    82    26\n",
            "   341    17     9    12    20    85  1863    17    85   211   350    26\n",
            "   117     2     5   122   784     9    18    47  9773   757  2602    17\n",
            "    93    26  1661     3  4006    28  6213   152  1455     3    84    70\n",
            "   251     2    53   319    41    47    37    26   508    54     3   425\n",
            "     4    36   183    29    19    71   189    81  1424     2    39    19\n",
            "    37    26   148     7  3093   123   516     4]\n"
          ],
          "name": "stdout"
        }
      ]
    },
    {
      "cell_type": "markdown",
      "metadata": {
        "id": "SdnSzWFzDBbE",
        "colab_type": "text"
      },
      "source": [
        "### 把測試資料集分成test和validation"
      ]
    },
    {
      "cell_type": "code",
      "metadata": {
        "id": "eNmVv4U3DBbF",
        "colab_type": "code",
        "colab": {}
      },
      "source": [
        "split_frac = 0.5 # 50% validation, 50% test\n",
        "split_id = int(split_frac * len(test_sentences))\n",
        "val_sentences, test_sentences = test_sentences[:split_id], test_sentences[split_id:]\n",
        "val_labels, test_labels = test_labels[:split_id], test_labels[split_id:]"
      ],
      "execution_count": 0,
      "outputs": []
    },
    {
      "cell_type": "markdown",
      "metadata": {
        "id": "1Xguy7v2DBbH",
        "colab_type": "text"
      },
      "source": [
        "### 看測試資料集的長度為多少"
      ]
    },
    {
      "cell_type": "code",
      "metadata": {
        "id": "WvXDnFNCDBbI",
        "colab_type": "code",
        "outputId": "0d97d0e3-d725-40f3-c693-c1913c7dfcc3",
        "colab": {
          "base_uri": "https://localhost:8080/",
          "height": 34
        }
      },
      "source": [
        "print(len(val_sentences))"
      ],
      "execution_count": 0,
      "outputs": [
        {
          "output_type": "stream",
          "text": [
            "100000\n"
          ],
          "name": "stdout"
        }
      ]
    },
    {
      "cell_type": "markdown",
      "metadata": {
        "id": "V3OP3wMQDBbK",
        "colab_type": "text"
      },
      "source": [
        "### 將資料載入pytorch格式\n",
        "* 三個資料集的載入\n",
        "* 設定批次大小\n",
        "* 建立dataloader的generator"
      ]
    },
    {
      "cell_type": "code",
      "metadata": {
        "id": "VcQx049tDBbL",
        "colab_type": "code",
        "colab": {}
      },
      "source": [
        "import torch\n",
        "from torch.utils.data import TensorDataset, DataLoader\n",
        "import torch.nn as nn\n",
        "\n",
        "train_data = TensorDataset(torch.from_numpy(train_sentences), torch.from_numpy(train_labels))\n",
        "val_data = TensorDataset(torch.from_numpy(val_sentences), torch.from_numpy(val_labels))\n",
        "test_data = TensorDataset(torch.from_numpy(test_sentences), torch.from_numpy(test_labels))\n",
        "\n",
        "batch_size = 400\n",
        "\n",
        "train_loader = DataLoader(train_data, shuffle=True, batch_size=batch_size)\n",
        "val_loader = DataLoader(val_data, shuffle=True, batch_size=batch_size)\n",
        "test_loader = DataLoader(test_data, shuffle=True, batch_size=batch_size)"
      ],
      "execution_count": 0,
      "outputs": []
    },
    {
      "cell_type": "markdown",
      "metadata": {
        "id": "MqdDV1eRDBbO",
        "colab_type": "text"
      },
      "source": [
        "### 檢查是否有gpu存在"
      ]
    },
    {
      "cell_type": "code",
      "metadata": {
        "id": "8lc7wQ40DBbP",
        "colab_type": "code",
        "outputId": "40dd769d-8396-4114-87b7-b969c5843aff",
        "colab": {
          "base_uri": "https://localhost:8080/",
          "height": 34
        }
      },
      "source": [
        "device = torch.device('cuda' if torch.cuda.is_available() else 'cpu')\n",
        "print(device)"
      ],
      "execution_count": 0,
      "outputs": [
        {
          "output_type": "stream",
          "text": [
            "cuda\n"
          ],
          "name": "stdout"
        }
      ]
    },
    {
      "cell_type": "markdown",
      "metadata": {
        "id": "bJj3Nk6eDBbS",
        "colab_type": "text"
      },
      "source": [
        "### 建立網路\n",
        "* `vocab_size`：字彙檔的大小，就是一個one-hot的資料\n",
        "* `output_size`：大小為1，因為只要一個值，介於0和1之間\n",
        "* `embedding_dim`：就是word2vec的特徵大小，從`vocab_size`降維過來的\n",
        "* `hidden_dim`：hidden和cell states的維度\n",
        "* `n_layers`：lstm的層數\n",
        "* `drop_prob`：dropout的比例\n"
      ]
    },
    {
      "cell_type": "code",
      "metadata": {
        "id": "e0YV-FhZDBbS",
        "colab_type": "code",
        "colab": {}
      },
      "source": [
        "class SentimentNet(nn.Module):\n",
        "    def __init__(self, vocab_size, output_size, embedding_dim, hidden_dim, n_layers, drop_prob=0.5):\n",
        "        super(SentimentNet, self).__init__()\n",
        "        self.output_size = output_size\n",
        "        self.n_layers = n_layers\n",
        "        self.hidden_dim = hidden_dim\n",
        "        \n",
        "        self.embedding = nn.Embedding(vocab_size, embedding_dim)\n",
        "        self.lstm = nn.LSTM(embedding_dim, hidden_dim, n_layers, dropout=drop_prob, batch_first=True)\n",
        "        self.dropout = nn.Dropout(drop_prob)\n",
        "        self.fc = nn.Linear(hidden_dim, output_size)\n",
        "        self.sigmoid = nn.Sigmoid()\n",
        "        \n",
        "    def forward(self, x, hidden):\n",
        "        batch_size = x.size(0)\n",
        "        x = x.long()\n",
        "        embeds = self.embedding(x)\n",
        "        lstm_out, hidden = self.lstm(embeds, hidden)\n",
        "        lstm_out = lstm_out.contiguous().view(-1, self.hidden_dim)\n",
        "        \n",
        "        out = self.dropout(lstm_out)\n",
        "        out = self.fc(out)\n",
        "        out = self.sigmoid(out)\n",
        "        \n",
        "        out = out.view(batch_size, -1)\n",
        "        out = out[:,-1]\n",
        "        return out, hidden\n",
        "    \n",
        "    def init_hidden(self, batch_size):\n",
        "        weight = next(self.parameters()).data\n",
        "        hidden = (weight.new(self.n_layers, batch_size, self.hidden_dim).zero_().to(device),\n",
        "                      weight.new(self.n_layers, batch_size, self.hidden_dim).zero_().to(device))\n",
        "        return hidden\n",
        "    "
      ],
      "execution_count": 0,
      "outputs": []
    },
    {
      "cell_type": "markdown",
      "metadata": {
        "id": "sGN62rAmDBbV",
        "colab_type": "text"
      },
      "source": [
        "### 定義超參數\n",
        "* 定義超參數\n",
        "* 建立模型\n",
        "* 將模型移入gpu中\n",
        "* 定義學習率\n",
        "* 定義損失函數\n",
        "* 定義最佳化方法"
      ]
    },
    {
      "cell_type": "code",
      "metadata": {
        "id": "mwbAIpvnDBbV",
        "colab_type": "code",
        "colab": {}
      },
      "source": [
        "vocab_size = len(word2idx) + 1\n",
        "output_size = 1\n",
        "embedding_dim = 400\n",
        "hidden_dim = 512\n",
        "n_layers = 2\n",
        "\n",
        "model = SentimentNet(vocab_size, output_size, embedding_dim, hidden_dim, n_layers)\n",
        "model.to(device)\n",
        "\n",
        "lr=0.005\n",
        "criterion = nn.BCELoss()\n",
        "optimizer = torch.optim.Adam(model.parameters(), lr=lr)\n"
      ],
      "execution_count": 0,
      "outputs": []
    },
    {
      "cell_type": "markdown",
      "metadata": {
        "id": "LTFhuc8LDBbY",
        "colab_type": "text"
      },
      "source": [
        "## 接下來把整個網路手動走一遍"
      ]
    },
    {
      "cell_type": "markdown",
      "metadata": {
        "id": "PNflX6ogDBbY",
        "colab_type": "text"
      },
      "source": [
        "### 啟始化hidden和cell states的值\n",
        "\n",
        "* 由於model已經移入gpu，因此呼叫model的函數產生的值也會在gpu中，就會出現cuda device\n",
        "* 另外要建立tuple，每一個批次都要有自己的tuple，不是一個大tuple丟去就好了"
      ]
    },
    {
      "cell_type": "code",
      "metadata": {
        "id": "U5jlDmdzDBbZ",
        "colab_type": "code",
        "outputId": "2d93b413-7bfe-480a-933c-0f95f821779d",
        "colab": {}
      },
      "source": [
        "hh = model.init_hidden(batch_size)\n",
        "hh = tuple([e.data for e in hh])\n",
        "print(hh[1].shape)\n",
        "print(hh[1])"
      ],
      "execution_count": 0,
      "outputs": [
        {
          "output_type": "stream",
          "text": [
            "torch.Size([2, 400, 512])\n",
            "tensor([[[0., 0., 0.,  ..., 0., 0., 0.],\n",
            "         [0., 0., 0.,  ..., 0., 0., 0.],\n",
            "         [0., 0., 0.,  ..., 0., 0., 0.],\n",
            "         ...,\n",
            "         [0., 0., 0.,  ..., 0., 0., 0.],\n",
            "         [0., 0., 0.,  ..., 0., 0., 0.],\n",
            "         [0., 0., 0.,  ..., 0., 0., 0.]],\n",
            "\n",
            "        [[0., 0., 0.,  ..., 0., 0., 0.],\n",
            "         [0., 0., 0.,  ..., 0., 0., 0.],\n",
            "         [0., 0., 0.,  ..., 0., 0., 0.],\n",
            "         ...,\n",
            "         [0., 0., 0.,  ..., 0., 0., 0.],\n",
            "         [0., 0., 0.,  ..., 0., 0., 0.],\n",
            "         [0., 0., 0.,  ..., 0., 0., 0.]]], device='cuda:0')\n"
          ],
          "name": "stdout"
        }
      ]
    },
    {
      "cell_type": "code",
      "metadata": {
        "id": "re3B-iLUDBbb",
        "colab_type": "code",
        "outputId": "1ba26589-5acf-493c-b206-b8a7db639923",
        "colab": {}
      },
      "source": [
        "inputs = next(iter(train_loader)) # 取一段training data出來\n",
        "x = inputs[0].to(device) #把資料移入gpu\n",
        "batch_num = x.size(0) #取得批次大小，256\n",
        "x = x.long() # 把輸入值轉成長整數\n",
        "print(x.shape) # 看看x的型狀長什麼樣子\n",
        "print(x) #印出一個x來看看"
      ],
      "execution_count": 0,
      "outputs": [
        {
          "output_type": "stream",
          "text": [
            "torch.Size([400, 200])\n",
            "tensor([[    0,     0,     0,  ..., 74024,   550,     2],\n",
            "        [    0,     0,     0,  ...,     0,  8863, 14487],\n",
            "        [    0,     0,     0,  ...,    97,   338,     2],\n",
            "        ...,\n",
            "        [    0,     0,     0,  ...,    11, 11005,     2],\n",
            "        [    0,     0,     0,  ...,   562,   570,    15],\n",
            "        [    0,     0,     0,  ...,    72,  2036,    45]], device='cuda:0')\n"
          ],
          "name": "stdout"
        }
      ]
    },
    {
      "cell_type": "code",
      "metadata": {
        "id": "REBuVIRMDBbe",
        "colab_type": "code",
        "colab": {}
      },
      "source": [
        "embedding = nn.Embedding(vocab_size, embedding_dim) # 把x從one-hot的詞彙大小轉成word2vec的大小\n",
        "embedding = embedding.to(device) #將這個函數放入gpu"
      ],
      "execution_count": 0,
      "outputs": []
    },
    {
      "cell_type": "code",
      "metadata": {
        "id": "IDU7ANkdDBbh",
        "colab_type": "code",
        "outputId": "397d8a9a-a09b-4183-ed79-a52e6ce69d7c",
        "colab": {}
      },
      "source": [
        "embeds = embedding(x) # 將詞彙轉成wordvec\n",
        "embeds.shape #看看型狀"
      ],
      "execution_count": 0,
      "outputs": [
        {
          "output_type": "execute_result",
          "data": {
            "text/plain": [
              "torch.Size([400, 200, 400])"
            ]
          },
          "metadata": {
            "tags": []
          },
          "execution_count": 32
        }
      ]
    },
    {
      "cell_type": "code",
      "metadata": {
        "id": "bYoFH8j8DBbk",
        "colab_type": "code",
        "colab": {}
      },
      "source": [
        "lstm = nn.LSTM(embedding_dim, hidden_dim, n_layers, dropout=0.5, batch_first=True) # 建立一個lstm\n",
        "lstm = lstm.to(device) #將lstm移入gpu\n",
        "lstm_out, hidden = lstm(embeds, hh) #讓剛才的資料跑過lstm，產生輸出值及新的hidden值"
      ],
      "execution_count": 0,
      "outputs": []
    },
    {
      "cell_type": "code",
      "metadata": {
        "id": "B2GIXltXDBbn",
        "colab_type": "code",
        "outputId": "213477ab-45f4-4a68-8db3-99c2c65e4156",
        "colab": {}
      },
      "source": [
        "print(lstm_out.shape) #看看從lstm跑出來的東西型狀\n",
        "print(hidden[0].shape) # 看看hidden第一個值的形狀"
      ],
      "execution_count": 0,
      "outputs": [
        {
          "output_type": "stream",
          "text": [
            "torch.Size([400, 200, 512])\n",
            "torch.Size([2, 400, 512])\n"
          ],
          "name": "stdout"
        }
      ]
    },
    {
      "cell_type": "code",
      "metadata": {
        "id": "IWQ_xvihDBbr",
        "colab_type": "code",
        "outputId": "58d5c012-793d-4c26-a5a2-5df9171c5852",
        "colab": {}
      },
      "source": [
        "lstm_out = lstm_out.contiguous().view(-1, hidden_dim) #把lstm的輸出值攤平\n",
        "lstm_out.shape #看看形狀"
      ],
      "execution_count": 0,
      "outputs": [
        {
          "output_type": "execute_result",
          "data": {
            "text/plain": [
              "torch.Size([80000, 512])"
            ]
          },
          "metadata": {
            "tags": []
          },
          "execution_count": 35
        }
      ]
    },
    {
      "cell_type": "code",
      "metadata": {
        "id": "B1_6KXZDDBbt",
        "colab_type": "code",
        "colab": {}
      },
      "source": [
        "dropout = nn.Dropout(0.5) #設定dropout\n",
        "out = dropout(lstm_out) # 讓輸出值走一次dropout"
      ],
      "execution_count": 0,
      "outputs": []
    },
    {
      "cell_type": "code",
      "metadata": {
        "id": "aAWIfpEmDBbw",
        "colab_type": "code",
        "outputId": "fb824f18-b317-4708-9479-0ce680bdd34a",
        "colab": {}
      },
      "source": [
        "print(out.shape) # 查看輸出值的形狀"
      ],
      "execution_count": 0,
      "outputs": [
        {
          "output_type": "stream",
          "text": [
            "torch.Size([80000, 512])\n"
          ],
          "name": "stdout"
        }
      ]
    },
    {
      "cell_type": "code",
      "metadata": {
        "id": "HJbeGmeZDBb0",
        "colab_type": "code",
        "outputId": "dfdbfba0-5ab5-4d8a-8e51-f12e6a383cd0",
        "colab": {}
      },
      "source": [
        "fc = nn.Linear(hidden_dim, 1) #定義最後一層fc\n",
        "fc = fc.to(device) #移入gpu\n",
        "out = fc(out) #讓輸入出值走一次fc\n",
        "print(out.shape) # 看一下形狀"
      ],
      "execution_count": 0,
      "outputs": [
        {
          "output_type": "stream",
          "text": [
            "torch.Size([80000, 1])\n"
          ],
          "name": "stdout"
        }
      ]
    },
    {
      "cell_type": "code",
      "metadata": {
        "id": "mux3eSbtDBb3",
        "colab_type": "code",
        "colab": {}
      },
      "source": [
        "sigmoid = nn.Sigmoid() # 讓輸出值介於0和1之間\n",
        "sigmoid = sigmoid.to(device) #將sigmoid移入gpu"
      ],
      "execution_count": 0,
      "outputs": []
    },
    {
      "cell_type": "code",
      "metadata": {
        "id": "kFOYqVqbDBb6",
        "colab_type": "code",
        "outputId": "f671aba0-7603-4397-8b36-42f0865ee976",
        "colab": {}
      },
      "source": [
        "out = sigmoid(out) #讓輸出值走一次sigmoid\n",
        "print(out.shape) #看看形狀"
      ],
      "execution_count": 0,
      "outputs": [
        {
          "output_type": "stream",
          "text": [
            "torch.Size([80000, 1])\n"
          ],
          "name": "stdout"
        }
      ]
    },
    {
      "cell_type": "code",
      "metadata": {
        "id": "G_BBeHjKDBb8",
        "colab_type": "code",
        "outputId": "82c41fd8-37ef-41dd-9b23-09b3489283ab",
        "colab": {}
      },
      "source": [
        "out = out.view(batch_size, -1) #把輸出值還原成(批次大小，句子長度)\n",
        "print(out.shape) # 看形狀"
      ],
      "execution_count": 0,
      "outputs": [
        {
          "output_type": "stream",
          "text": [
            "torch.Size([400, 200])\n"
          ],
          "name": "stdout"
        }
      ]
    },
    {
      "cell_type": "code",
      "metadata": {
        "id": "HMDa49GqDBcA",
        "colab_type": "code",
        "outputId": "c7019a59-603c-41e4-925e-b8cc08e23b26",
        "colab": {}
      },
      "source": [
        "out = out[:,-1] #取出最後結果值\n",
        "print(out.shape)# 看形狀"
      ],
      "execution_count": 0,
      "outputs": [
        {
          "output_type": "stream",
          "text": [
            "torch.Size([400])\n"
          ],
          "name": "stdout"
        }
      ]
    },
    {
      "cell_type": "code",
      "metadata": {
        "id": "FrBsHJ0kDBcC",
        "colab_type": "code",
        "outputId": "be756909-3cde-4252-a0fb-efd496878e74",
        "colab": {}
      },
      "source": [
        "print(out) # 看每批256個輸出值"
      ],
      "execution_count": 0,
      "outputs": [
        {
          "output_type": "stream",
          "text": [
            "tensor([0.4899, 0.5036, 0.5069, 0.4908, 0.5161, 0.4925, 0.5099, 0.5066, 0.5119,\n",
            "        0.5050, 0.5135, 0.5029, 0.5187, 0.5099, 0.5098, 0.5017, 0.4992, 0.5009,\n",
            "        0.4970, 0.5106, 0.4894, 0.4957, 0.5016, 0.5104, 0.4937, 0.5007, 0.5000,\n",
            "        0.4958, 0.4931, 0.5118, 0.5031, 0.5282, 0.5014, 0.5054, 0.5137, 0.5177,\n",
            "        0.5019, 0.4888, 0.5141, 0.5120, 0.5031, 0.5017, 0.5022, 0.4979, 0.4991,\n",
            "        0.5070, 0.4992, 0.4945, 0.5034, 0.4981, 0.4835, 0.5024, 0.5060, 0.5078,\n",
            "        0.5026, 0.4999, 0.4957, 0.4894, 0.4972, 0.4998, 0.4965, 0.5149, 0.5061,\n",
            "        0.5089, 0.5017, 0.5010, 0.4983, 0.5123, 0.5039, 0.4971, 0.4989, 0.4943,\n",
            "        0.5011, 0.4888, 0.5056, 0.4995, 0.5073, 0.4958, 0.4899, 0.5252, 0.5167,\n",
            "        0.5030, 0.4934, 0.4996, 0.5017, 0.4981, 0.5013, 0.5088, 0.4965, 0.5026,\n",
            "        0.5112, 0.5136, 0.5131, 0.5124, 0.5028, 0.5055, 0.4973, 0.5094, 0.5038,\n",
            "        0.5046, 0.5016, 0.4956, 0.5057, 0.4971, 0.5061, 0.5052, 0.5022, 0.5075,\n",
            "        0.5022, 0.5173, 0.5054, 0.5080, 0.5026, 0.4992, 0.4932, 0.5077, 0.5078,\n",
            "        0.4996, 0.5023, 0.5074, 0.5033, 0.4989, 0.5151, 0.5087, 0.5146, 0.4964,\n",
            "        0.4929, 0.4975, 0.5018, 0.5004, 0.4954, 0.5109, 0.4910, 0.5134, 0.5082,\n",
            "        0.5257, 0.5079, 0.5117, 0.4985, 0.5193, 0.5154, 0.5060, 0.4931, 0.4999,\n",
            "        0.5105, 0.5234, 0.4977, 0.5058, 0.5009, 0.4892, 0.5047, 0.5061, 0.5080,\n",
            "        0.4997, 0.4947, 0.5106, 0.5121, 0.5041, 0.5035, 0.5097, 0.5143, 0.4976,\n",
            "        0.5020, 0.4826, 0.4839, 0.4948, 0.4955, 0.4975, 0.4991, 0.4988, 0.5281,\n",
            "        0.5105, 0.4883, 0.4916, 0.5184, 0.4931, 0.4935, 0.4946, 0.5144, 0.5053,\n",
            "        0.4967, 0.5052, 0.5027, 0.5093, 0.5094, 0.5042, 0.5171, 0.5014, 0.5136,\n",
            "        0.5221, 0.5033, 0.5083, 0.5022, 0.5166, 0.5027, 0.4955, 0.4968, 0.5084,\n",
            "        0.4963, 0.5177, 0.4944, 0.4991, 0.4984, 0.5017, 0.5086, 0.5166, 0.5093,\n",
            "        0.5213, 0.5136, 0.5036, 0.5106, 0.5054, 0.5002, 0.5021, 0.4916, 0.5079,\n",
            "        0.5059, 0.5084, 0.5008, 0.5238, 0.5171, 0.5104, 0.5024, 0.4972, 0.5149,\n",
            "        0.5027, 0.5063, 0.5075, 0.5071, 0.5084, 0.5056, 0.5010, 0.4991, 0.5069,\n",
            "        0.5128, 0.4974, 0.5036, 0.4901, 0.5075, 0.5034, 0.5020, 0.5076, 0.4942,\n",
            "        0.5018, 0.5008, 0.5144, 0.4996, 0.4970, 0.5059, 0.5023, 0.5105, 0.5121,\n",
            "        0.5053, 0.4927, 0.4918, 0.4971, 0.5112, 0.5137, 0.5029, 0.4952, 0.5021,\n",
            "        0.5107, 0.5006, 0.5037, 0.5011, 0.5152, 0.5192, 0.5065, 0.5073, 0.5174,\n",
            "        0.5065, 0.5046, 0.5033, 0.5024, 0.5022, 0.5089, 0.4955, 0.4927, 0.5143,\n",
            "        0.4897, 0.5142, 0.4977, 0.4982, 0.5030, 0.5058, 0.5025, 0.4979, 0.5160,\n",
            "        0.5006, 0.5001, 0.5008, 0.5051, 0.5064, 0.4813, 0.5079, 0.5001, 0.4940,\n",
            "        0.5062, 0.5129, 0.5037, 0.5145, 0.5137, 0.5082, 0.5025, 0.5053, 0.4906,\n",
            "        0.4966, 0.5074, 0.5002, 0.4991, 0.4906, 0.4965, 0.5037, 0.5022, 0.4970,\n",
            "        0.5014, 0.4881, 0.4950, 0.4991, 0.5106, 0.5102, 0.5064, 0.5015, 0.5072,\n",
            "        0.4939, 0.4850, 0.5055, 0.4998, 0.5162, 0.5023, 0.5087, 0.5057, 0.5028,\n",
            "        0.5062, 0.5090, 0.4948, 0.5062, 0.4998, 0.5037, 0.4956, 0.5018, 0.5044,\n",
            "        0.4925, 0.4959, 0.5068, 0.4983, 0.5005, 0.4969, 0.5157, 0.4898, 0.4998,\n",
            "        0.5003, 0.4980, 0.5006, 0.5079, 0.4956, 0.4914, 0.4854, 0.5008, 0.4992,\n",
            "        0.5070, 0.4954, 0.4841, 0.4991, 0.5131, 0.5051, 0.5051, 0.4975, 0.5198,\n",
            "        0.5047, 0.5112, 0.5112, 0.5035, 0.5026, 0.5012, 0.4999, 0.4952, 0.4855,\n",
            "        0.4912, 0.4985, 0.4933, 0.5197, 0.5088, 0.4991, 0.4953, 0.4934, 0.5079,\n",
            "        0.4963, 0.5008, 0.4918, 0.4891, 0.5059, 0.5002, 0.5037, 0.4923, 0.5156,\n",
            "        0.4977, 0.5039, 0.4989, 0.4912], device='cuda:0',\n",
            "       grad_fn=<SelectBackward>)\n"
          ],
          "name": "stdout"
        }
      ]
    },
    {
      "cell_type": "markdown",
      "metadata": {
        "id": "28DRQK8nDBcF",
        "colab_type": "text"
      },
      "source": [
        "### 接下來進行真正訓練\n",
        "* 輪數為2\n",
        "* 計數值\n",
        "* 每1000步就印出結果\n",
        "* 一開始的loss值為無限大\n",
        "\n",
        "### 開始訓練\n",
        "* 初始化hidden值\n",
        "* 走訓練流程\n",
        "* 每1000步就印出結果一次"
      ]
    },
    {
      "cell_type": "code",
      "metadata": {
        "id": "S_ISJOsjDBcF",
        "colab_type": "code",
        "outputId": "5cd75773-af16-4fa5-b4d1-d027e5bc6fe0",
        "colab": {
          "base_uri": "https://localhost:8080/",
          "height": 118
        }
      },
      "source": [
        "epochs = 2\n",
        "counter = 0\n",
        "print_every = 1000\n",
        "clip = 5\n",
        "valid_loss_min = np.Inf\n",
        "\n",
        "model.train()\n",
        "for i in range(epochs):\n",
        "    h = model.init_hidden(batch_size)\n",
        "    \n",
        "    for inputs, labels in train_loader:\n",
        "        counter += 1\n",
        "        h = tuple([e.data for e in h])\n",
        "        inputs, labels = inputs.to(device), labels.to(device)\n",
        "        model.zero_grad()\n",
        "        output, h = model(inputs, h)\n",
        "        loss = criterion(output.squeeze(), labels.float())\n",
        "        loss.backward()\n",
        "        nn.utils.clip_grad_norm_(model.parameters(), clip)\n",
        "        optimizer.step()\n",
        "        \n",
        "        if counter%print_every == 0:\n",
        "            val_h = model.init_hidden(batch_size)\n",
        "            val_losses = []\n",
        "            model.eval()\n",
        "            for inp, lab in val_loader:\n",
        "                val_h = tuple([each.data for each in val_h])\n",
        "                inp, lab = inp.to(device), lab.to(device)\n",
        "                out, val_h = model(inp, val_h)\n",
        "                val_loss = criterion(out.squeeze(), lab.float())\n",
        "                val_losses.append(val_loss.item())\n",
        "                \n",
        "            model.train()\n",
        "            print(\"Epoch: {}/{}...\".format(i+1, epochs),\n",
        "                  \"Step: {}...\".format(counter),\n",
        "                  \"Loss: {:.6f}...\".format(loss.item()),\n",
        "                  \"Val Loss: {:.6f}\".format(np.mean(val_losses)))\n",
        "            if np.mean(val_losses) <= valid_loss_min:\n",
        "                torch.save(model.state_dict(), './state_dict.pt')\n",
        "                print('Validation loss decreased ({:.6f} --> {:.6f}).  Saving model ...'.format(valid_loss_min,np.mean(val_losses)))\n",
        "                valid_loss_min = np.mean(val_losses)"
      ],
      "execution_count": 0,
      "outputs": [
        {
          "output_type": "stream",
          "text": [
            "Epoch: 1/2... Step: 1000... Loss: 0.162883... Val Loss: 0.180412\n",
            "Validation loss decreased (inf --> 0.180412).  Saving model ...\n",
            "Epoch: 1/2... Step: 2000... Loss: 0.116144... Val Loss: 0.172890\n",
            "Validation loss decreased (0.180412 --> 0.172890).  Saving model ...\n",
            "Epoch: 2/2... Step: 3000... Loss: 0.183131... Val Loss: 0.174799\n",
            "Epoch: 2/2... Step: 4000... Loss: 0.165584... Val Loss: 0.181112\n"
          ],
          "name": "stdout"
        }
      ]
    },
    {
      "cell_type": "markdown",
      "metadata": {
        "id": "DtBcJ24lDBcH",
        "colab_type": "text"
      },
      "source": [
        "### 進行模型結果預測"
      ]
    },
    {
      "cell_type": "code",
      "metadata": {
        "id": "59jo-DcsDBcI",
        "colab_type": "code",
        "outputId": "424c180b-95c8-4d14-927b-44b944533861",
        "colab": {
          "base_uri": "https://localhost:8080/",
          "height": 51
        }
      },
      "source": [
        "# Loading the best model\n",
        "model.load_state_dict(torch.load('./state_dict.pt'))\n",
        "\n",
        "test_losses = []\n",
        "num_correct = 0\n",
        "h = model.init_hidden(batch_size)\n",
        "\n",
        "model.eval()\n",
        "for inputs, labels in test_loader:\n",
        "    h = tuple([each.data for each in h])\n",
        "    inputs, labels = inputs.to(device), labels.to(device)\n",
        "    output, h = model(inputs, h)\n",
        "    test_loss = criterion(output.squeeze(), labels.float())\n",
        "    test_losses.append(test_loss.item())\n",
        "    pred = torch.round(output.squeeze())  # Rounds the output to 0/1\n",
        "    correct_tensor = pred.eq(labels.float().view_as(pred))\n",
        "    correct = np.squeeze(correct_tensor.cpu().numpy())\n",
        "    num_correct += np.sum(correct)\n",
        "\n",
        "print(\"Test loss: {:.3f}\".format(np.mean(test_losses)))\n",
        "test_acc = num_correct/len(test_loader.dataset)\n",
        "print(\"Test accuracy: {:.3f}%\".format(test_acc*100))"
      ],
      "execution_count": 0,
      "outputs": [
        {
          "output_type": "stream",
          "text": [
            "Test loss: 0.169\n",
            "Test accuracy: 93.637%\n"
          ],
          "name": "stdout"
        }
      ]
    }
  ]
}