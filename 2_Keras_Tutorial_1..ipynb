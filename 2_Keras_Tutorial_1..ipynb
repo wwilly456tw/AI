{
  "nbformat": 4,
  "nbformat_minor": 0,
  "metadata": {
    "colab": {
      "name": "Untitled6.ipynb",
      "provenance": []
    },
    "kernelspec": {
      "name": "python3",
      "display_name": "Python 3"
    }
  },
  "cells": [
    {
      "cell_type": "code",
      "metadata": {
        "id": "wLDTWMhRkhqF",
        "colab_type": "code",
        "colab": {
          "base_uri": "https://localhost:8080/",
          "height": 493
        },
        "outputId": "0b933626-bc64-4f8c-a5f9-f468a54db1c4"
      },
      "source": [
        "import keras\n",
        "from keras.models import Sequential\n",
        "from keras.layers import Dense\n",
        "\n",
        "import numpy as np\n",
        "data = np.random.random((1000, 10)) #隨機產生1000筆資料，每筆資料1包含十個float數字\n",
        "labels = np.random.randint(2, size=(1000, 1)) #隨機產生1000筆資料，每筆資料上限為2(意思就是0 或 1)\n",
        "print(np.shape(data))\n",
        "print(data[0])\n",
        "print(np.shape(labels))\n",
        "print(labels[0])\n",
        "\n",
        "model = Sequential()\n",
        "model.add(Dense(32, activation='relu', input_dim=10))\n",
        "model.add(Dense(1, activation='sigmoid'))\n",
        "model.compile(optimizer='rmsprop', loss='binary_crossentropy', metrics=['accuracy'])\n",
        "\n",
        "model.fit(data, labels, epochs=10, batch_size=32)\n",
        "\n",
        "score=model.evaluate(data, labels)\n",
        "print(score[1])"
      ],
      "execution_count": 2,
      "outputs": [
        {
          "output_type": "stream",
          "text": [
            "Using TensorFlow backend.\n"
          ],
          "name": "stderr"
        },
        {
          "output_type": "stream",
          "text": [
            "(1000, 10)\n",
            "[0.24771044 0.36202369 0.13327316 0.09079823 0.92801775 0.17462239\n",
            " 0.36198874 0.18573174 0.39745766 0.33210609]\n",
            "(1000, 1)\n",
            "[1]\n",
            "Epoch 1/10\n",
            "1000/1000 [==============================] - 0s 280us/step - loss: 0.7002 - accuracy: 0.4930\n",
            "Epoch 2/10\n",
            "1000/1000 [==============================] - 0s 32us/step - loss: 0.6970 - accuracy: 0.4890\n",
            "Epoch 3/10\n",
            "1000/1000 [==============================] - 0s 34us/step - loss: 0.6957 - accuracy: 0.5000\n",
            "Epoch 4/10\n",
            "1000/1000 [==============================] - 0s 35us/step - loss: 0.6952 - accuracy: 0.5030\n",
            "Epoch 5/10\n",
            "1000/1000 [==============================] - 0s 34us/step - loss: 0.6943 - accuracy: 0.5080\n",
            "Epoch 6/10\n",
            "1000/1000 [==============================] - 0s 33us/step - loss: 0.6935 - accuracy: 0.4940\n",
            "Epoch 7/10\n",
            "1000/1000 [==============================] - 0s 37us/step - loss: 0.6923 - accuracy: 0.5170\n",
            "Epoch 8/10\n",
            "1000/1000 [==============================] - 0s 35us/step - loss: 0.6913 - accuracy: 0.5130\n",
            "Epoch 9/10\n",
            "1000/1000 [==============================] - 0s 34us/step - loss: 0.6920 - accuracy: 0.5020\n",
            "Epoch 10/10\n",
            "1000/1000 [==============================] - 0s 32us/step - loss: 0.6906 - accuracy: 0.5270\n",
            "1000/1000 [==============================] - 0s 37us/step\n",
            "0.5370000004768372\n"
          ],
          "name": "stdout"
        }
      ]
    }
  ]
}