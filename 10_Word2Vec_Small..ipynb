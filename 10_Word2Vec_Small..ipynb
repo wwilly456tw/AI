{
  "nbformat": 4,
  "nbformat_minor": 0,
  "metadata": {
    "colab": {
      "name": "Untitled6.ipynb",
      "provenance": []
    },
    "kernelspec": {
      "name": "python3",
      "display_name": "Python 3"
    }
  },
  "cells": [
    {
      "cell_type": "code",
      "metadata": {
        "id": "wLDTWMhRkhqF",
        "colab_type": "code",
        "colab": {
          "base_uri": "https://localhost:8080/",
          "height": 462
        },
        "outputId": "80d14928-3048-410b-857c-103c27351698"
      },
      "source": [
        "!wget https://raw.githubusercontent.com/joshhu/must_examples/master/my_seg_small.txt\n",
        "\n",
        "\n",
        "import sys\n",
        "from gensim.models import word2vec\n",
        "from gensim import models\n",
        "\n",
        "sentences = word2vec.LineSentence(\"my_seg_small.txt\")\n",
        "model = word2vec.Word2Vec(sentences, size=5, min_count=1, negative=10)\n",
        "\n",
        "model.save('word2vec.model')\n",
        "model.wv.save_word2vec_format('word2vec.model', binary = False)\n",
        "print('done')\n",
        "\n",
        "\n",
        "input_str = \"北京\"\n",
        "res = model.wv.most_similar(input_str)\n",
        "for item in res: \n",
        "      print(item[0] + ':' + str(item[1]))"
      ],
      "execution_count": 3,
      "outputs": [
        {
          "output_type": "stream",
          "text": [
            "--2020-04-23 01:15:25--  https://raw.githubusercontent.com/joshhu/must_examples/master/my_seg_small.txt\n",
            "Resolving raw.githubusercontent.com (raw.githubusercontent.com)... 151.101.0.133, 151.101.64.133, 151.101.128.133, ...\n",
            "Connecting to raw.githubusercontent.com (raw.githubusercontent.com)|151.101.0.133|:443... connected.\n",
            "HTTP request sent, awaiting response... 200 OK\n",
            "Length: 398 [text/plain]\n",
            "Saving to: ‘my_seg_small.txt’\n",
            "\n",
            "\rmy_seg_small.txt      0%[                    ]       0  --.-KB/s               \rmy_seg_small.txt    100%[===================>]     398  --.-KB/s    in 0s      \n",
            "\n",
            "2020-04-23 01:15:25 (20.3 MB/s) - ‘my_seg_small.txt’ saved [398/398]\n",
            "\n",
            "done\n",
            "台北:0.596960723400116\n",
            "吃下午茶:0.49443602561950684\n",
            "下午茶:0.47120988368988037\n",
            "玩:0.06871527433395386\n",
            "上海:-0.0491054505109787\n",
            "帝都:-0.11796727776527405\n",
            "飯:-0.5123898983001709\n",
            "吃:-0.5268319249153137\n",
            "烤鴨:-0.9343429803848267\n"
          ],
          "name": "stdout"
        },
        {
          "output_type": "stream",
          "text": [
            "/usr/local/lib/python3.6/dist-packages/smart_open/smart_open_lib.py:253: UserWarning: This function is deprecated, use smart_open.open instead. See the migration notes for details: https://github.com/RaRe-Technologies/smart_open/blob/master/README.rst#migrating-to-the-new-open-function\n",
            "  'See the migration notes for details: %s' % _MIGRATION_NOTES_URL\n",
            "/usr/local/lib/python3.6/dist-packages/gensim/matutils.py:737: FutureWarning: Conversion of the second argument of issubdtype from `int` to `np.signedinteger` is deprecated. In future, it will be treated as `np.int64 == np.dtype(int).type`.\n",
            "  if np.issubdtype(vec.dtype, np.int):\n"
          ],
          "name": "stderr"
        }
      ]
    }
  ]
}